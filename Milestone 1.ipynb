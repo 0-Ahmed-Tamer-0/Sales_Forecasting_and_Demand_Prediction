{
 "cells": [
  {
   "cell_type": "markdown",
   "metadata": {},
   "source": [
    "Milestone 1"
   ]
  },
  {
   "cell_type": "code",
   "execution_count": 1,
   "metadata": {},
   "outputs": [
    {
     "ename": "ModuleNotFoundError",
     "evalue": "No module named 'num'",
     "output_type": "error",
     "traceback": [
      "\u001b[1;31m---------------------------------------------------------------------------\u001b[0m",
      "\u001b[1;31mModuleNotFoundError\u001b[0m                       Traceback (most recent call last)",
      "Cell \u001b[1;32mIn[1], line 3\u001b[0m\n\u001b[0;32m      1\u001b[0m \u001b[38;5;66;03m# read the data\u001b[39;00m\n\u001b[0;32m      2\u001b[0m \u001b[38;5;28;01mimport\u001b[39;00m \u001b[38;5;21;01mpandas\u001b[39;00m \u001b[38;5;28;01mas\u001b[39;00m \u001b[38;5;21;01mpd\u001b[39;00m\n\u001b[1;32m----> 3\u001b[0m \u001b[38;5;28;01mimport\u001b[39;00m \u001b[38;5;21;01mnum\u001b[39;00m\n\u001b[0;32m      4\u001b[0m df\u001b[38;5;241m=\u001b[39m pd\u001b[38;5;241m.\u001b[39mread_csv(\u001b[38;5;124mr\u001b[39m\u001b[38;5;124m\"\u001b[39m\u001b[38;5;124mdatasets\u001b[39m\u001b[38;5;124m\\\u001b[39m\u001b[38;5;124mretail_store_inventory.csv\u001b[39m\u001b[38;5;124m\"\u001b[39m)\n\u001b[0;32m      5\u001b[0m df\u001b[38;5;241m.\u001b[39mhead()\n",
      "\u001b[1;31mModuleNotFoundError\u001b[0m: No module named 'num'"
     ]
    }
   ],
   "source": [
    "# read the data\n",
    "import pandas as pd\n",
    "import num\n",
    "df= pd.read_csv(r\"datasets\\retail_store_inventory.csv\")\n",
    "df.head()"
   ]
  },
  {
   "cell_type": "code",
   "execution_count": null,
   "metadata": {},
   "outputs": [],
   "source": [
    "df.describe()"
   ]
  },
  {
   "cell_type": "code",
   "execution_count": null,
   "metadata": {},
   "outputs": [],
   "source": [
    "df.info()"
   ]
  },
  {
   "cell_type": "code",
   "execution_count": null,
   "metadata": {},
   "outputs": [],
   "source": [
    "df.isnull().sum()"
   ]
  },
  {
   "cell_type": "code",
   "execution_count": null,
   "metadata": {},
   "outputs": [],
   "source": [
    "df.tail()"
   ]
  },
  {
   "cell_type": "code",
   "execution_count": null,
   "metadata": {},
   "outputs": [],
   "source": [
    "# States from richest to least\n",
    "states_income = [\n",
    "    \"Massachusetts\", \"New Jersey\", \"Maryland\", \"New Hampshire\", \"California\",\n",
    "    \"Hawaii\", \"Washington\", \"Connecticut\", \"Alaska\", \"Virginia\",\n",
    "    \"New York\", \"New Hampshire\", \"Minnesota\", \"Oregon\", \"Colorado\",\n",
    "    \"Arizona\", \"Illinois\", \"Nevada\", \"Texas\", \"Florida\",\n",
    "    \"Pennsylvania\", \"Georgia\", \"North Carolina\", \"South Carolina\",\n",
    "    \"Michigan\", \"Ohio\", \"Tennessee\", \"Missouri\", \"Indiana\", \n",
    "    \"Alabama\", \"Kentucky\", \"Oklahoma\", \"Arkansas\", \"Louisiana\",\n",
    "    \"Idaho\", \"Kansas\", \"New Mexico\", \"Mississippi\", \"Alabama\",\n",
    "    \"Tennessee\", \"Arkansas\", \"Missouri\", \"Indiana\", \"Oklahoma\",\n",
    "    \"Kentucky\", \"Tennessee\", \"Arkansas\", \"Missouri\", \"Indiana\"\n",
    "]\n",
    "\n",
    "# Regions\n",
    "regions = {\n",
    "    'North': [\"New York\", \"New Jersey\", \"Massachusetts\", \"Connecticut\", \"Pennsylvania\", \"Ohio\", \"Michigan\", \"Minnesota\", \"Wisconsin\", \"Illinois\", \"Indiana\", \"Iowa\", \"Missouri\"],\n",
    "    'South': [\"Maryland\", \"Delaware\", \"Virginia\", \"Kentucky\", \"Tennessee\", \"North Carolina\", \"South Carolina\", \"Georgia\", \"Alabama\", \"Mississippi\", \"Arkansas\", \"Louisiana\", \"Florida\"],\n",
    "    'East': [\"Maine\", \"New Hampshire\", \"Vermont\", \"Massachusetts\", \"Rhode Island\", \"Connecticut\", \"New York\", \"New Jersey\", \"Delaware\", \"Maryland\"],\n",
    "    'West': [\"Montana\", \"Idaho\", \"Wyoming\", \"Nevada\", \"Utah\", \"Colorado\", \"Arizona\", \"New Mexico\", \"Alaska\", \"Washington\", \"Oregon\", \"California\", \"Hawaii\"]\n",
    "}\n",
    "\n",
    "#chatgpt + msh fahm 7aga\n",
    "state_region = {state: region for region, states in regions.items() for state in states}\n",
    "###################"
   ]
  },
  {
   "cell_type": "code",
   "execution_count": null,
   "metadata": {},
   "outputs": [],
   "source": [
    "sorted_states = states_income  \n",
    "# Median\n",
    "M = data['Price'].median()\n",
    "\n",
    "def assign_state(price):\n",
    "\n",
    "    if price > M:\n",
    "        weights = np.linspace(1, 0, len(sorted_states))  # Prefer richer states\n",
    "    else:\n",
    "        weights = np.linspace(0, 1, len(sorted_states))  # Prefer poorer states  \n",
    "    \n",
    "    # Normalize weights\n",
    "    n_w = weights / np.sum(weights)\n",
    "    \n",
    "    # Randomly select state\n",
    "    chosen_state = np.random.choice(sorted_states, p=n_w)  \n",
    "    \n",
    "    return chosen_state\n"
   ]
  },
  {
   "cell_type": "markdown",
   "metadata": {},
   "source": [
    "#### Goda\n"
   ]
  },
  {
   "cell_type": "code",
   "execution_count": null,
   "metadata": {},
   "outputs": [],
   "source": [
    "def assign_state(row):\n",
    "    if row['Region'] == 'North':\n",
    "        return np.random.choice(regions['North'])\n",
    "    elif  row['Region']== 'South':\n",
    "        return np.random.choice(regions['South'])\n",
    "    elif row['Region']== 'East':\n",
    "        return np.random.choice(regions['East'])\n",
    "    elif  row['Region']== 'West':\n",
    "        return np.random.choice(regions['West'])\n",
    "    else:\n",
    "        return None  # In case the region is missing or invalid\n",
    "\n",
    "# Apply function to assign states\n",
    "data['State'] = data.apply(assign_state,axis=1)\n",
    "\n",
    "# Display first few rows\n",
    "data\n"
   ]
  },
  {
   "cell_type": "code",
   "execution_count": null,
   "metadata": {},
   "outputs": [],
   "source": [
    "np.random.seed(42)\n",
    "data.loc[np.random.choice(data.index, size=50, replace=False), 'Price'] = np.nan\n",
    "\n",
    "data['Price'] = data['Price'].clip(10, 100)\n",
    "\n",
    "mean_age = 55\n",
    "std_age = 26.05\n",
    "\n",
    "def generate_age(price):\n",
    "    if pd.isna(price):\n",
    "        return np.nan\n",
    "    age = mean_age + ((price - data['Price'].mean()) / data['Price'].std()) * std_age\n",
    "    return int(np.clip(age, 20, 70))\n",
    "\n",
    "data['Age'] = data['Price'].apply(generate_age)\n",
    "data['Age'].fillna(data['Age'].median(), inplace=True)\n",
    "data.head(10)\n"
   ]
  },
  {
   "cell_type": "code",
   "execution_count": null,
   "metadata": {},
   "outputs": [],
   "source": [
    "# Female & Male categories\n",
    "female_fav_catg= ['Clothing', 'Beauty', 'Accessories']\n",
    "male_fav_catg = ['Electronics', 'Sports', 'Automotive']\n",
    "\n",
    "def assign_gender(row):\n",
    "\n",
    "    if row['Category'] in female_fav_catg:\n",
    "        return np.random.choice(['Female', 'Male'], p=[0.8, 0.2])\n",
    "\n",
    "    elif row['Category'] in male_fav_catg:\n",
    "        return np.random.choice(['Male', 'Female'], p=[0.8, 0.2])\n",
    "\n",
    "    elif row['Price'] > data['Price'].quantile(0.75):\n",
    "        return np.random.choice(['Male', 'Female'], p=[0.7, 0.3])\n",
    "\n",
    "    elif row['Price'] < data['Price'].quantile(0.25):\n",
    "        return np.random.choice(['Female', 'Male'], p=[0.7, 0.3])\n",
    "\n",
    "    else:\n",
    "        return np.random.choice(['Male', 'Female'], p=[0.5, 0.5])\n",
    "data['Gender'] = data.apply(assign_gender, axis=1)\n",
    "\n"
   ]
  },
  {
   "cell_type": "markdown",
   "metadata": {},
   "source": [
    "#### Nour\n"
   ]
  },
  {
   "cell_type": "code",
   "execution_count": null,
   "metadata": {},
   "outputs": [],
   "source": [
    "sorted_states = states_income  \n",
    "# Median\n",
    "M = data['Price'].median()\n",
    "\n",
    "def assign_state(price):\n",
    "\n",
    "    if price > M:\n",
    "        weights = np.linspace(1, 0, len(sorted_states))  # Prefer richer states\n",
    "    else:\n",
    "        weights = np.linspace(0, 1, len(sorted_states))  # Prefer poorer states  \n",
    "    \n",
    "    # Normalize weights\n",
    "    n_w = weights / np.sum(weights)\n",
    "    \n",
    "    # Randomly select state\n",
    "    chosen_state = np.random.choice(sorted_states, p=n_w)  \n",
    "    \n",
    "    return chosen_state\n",
    "\n",
    "data['State'] = data.apply(assign_state,axis=1)\n",
    "\n"
   ]
  }
 ],
 "metadata": {
  "kernelspec": {
   "display_name": "Python 3",
   "language": "python",
   "name": "python3"
  },
  "language_info": {
   "codemirror_mode": {
    "name": "ipython",
    "version": 3
   },
   "file_extension": ".py",
   "mimetype": "text/x-python",
   "name": "python",
   "nbconvert_exporter": "python",
   "pygments_lexer": "ipython3",
   "version": "3.13.0"
  }
 },
 "nbformat": 4,
 "nbformat_minor": 2
}
